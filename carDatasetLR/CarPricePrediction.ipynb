{
 "cells": [
  {
   "cell_type": "code",
   "execution_count": 1,
   "id": "ec8cca55-de95-47cf-b4ec-2d444f2a5398",
   "metadata": {},
   "outputs": [],
   "source": [
    "import numpy as np\n",
    "import pandas as pd\n",
    "import matplotlib.pyplot as plt"
   ]
  },
  {
   "cell_type": "code",
   "execution_count": 2,
   "id": "eafac1b1-914f-41b8-b365-194c75eab957",
   "metadata": {},
   "outputs": [
    {
     "data": {
      "text/html": [
       "<div>\n",
       "<style scoped>\n",
       "    .dataframe tbody tr th:only-of-type {\n",
       "        vertical-align: middle;\n",
       "    }\n",
       "\n",
       "    .dataframe tbody tr th {\n",
       "        vertical-align: top;\n",
       "    }\n",
       "\n",
       "    .dataframe thead th {\n",
       "        text-align: right;\n",
       "    }\n",
       "</style>\n",
       "<table border=\"1\" class=\"dataframe\">\n",
       "  <thead>\n",
       "    <tr style=\"text-align: right;\">\n",
       "      <th></th>\n",
       "      <th>Car_Name</th>\n",
       "      <th>Year</th>\n",
       "      <th>Selling_Price</th>\n",
       "      <th>Present_Price</th>\n",
       "      <th>Kms_Driven</th>\n",
       "      <th>Fuel_Type</th>\n",
       "      <th>Seller_Type</th>\n",
       "      <th>Transmission</th>\n",
       "      <th>Owner</th>\n",
       "    </tr>\n",
       "  </thead>\n",
       "  <tbody>\n",
       "    <tr>\n",
       "      <th>0</th>\n",
       "      <td>ritz</td>\n",
       "      <td>2014</td>\n",
       "      <td>3.35</td>\n",
       "      <td>5.59</td>\n",
       "      <td>27000</td>\n",
       "      <td>Petrol</td>\n",
       "      <td>Dealer</td>\n",
       "      <td>Manual</td>\n",
       "      <td>0</td>\n",
       "    </tr>\n",
       "    <tr>\n",
       "      <th>1</th>\n",
       "      <td>sx4</td>\n",
       "      <td>2013</td>\n",
       "      <td>4.75</td>\n",
       "      <td>9.54</td>\n",
       "      <td>43000</td>\n",
       "      <td>Diesel</td>\n",
       "      <td>Dealer</td>\n",
       "      <td>Manual</td>\n",
       "      <td>0</td>\n",
       "    </tr>\n",
       "    <tr>\n",
       "      <th>2</th>\n",
       "      <td>ciaz</td>\n",
       "      <td>2017</td>\n",
       "      <td>7.25</td>\n",
       "      <td>9.85</td>\n",
       "      <td>6900</td>\n",
       "      <td>Petrol</td>\n",
       "      <td>Dealer</td>\n",
       "      <td>Manual</td>\n",
       "      <td>0</td>\n",
       "    </tr>\n",
       "    <tr>\n",
       "      <th>3</th>\n",
       "      <td>wagon r</td>\n",
       "      <td>2011</td>\n",
       "      <td>2.85</td>\n",
       "      <td>4.15</td>\n",
       "      <td>5200</td>\n",
       "      <td>Petrol</td>\n",
       "      <td>Dealer</td>\n",
       "      <td>Manual</td>\n",
       "      <td>0</td>\n",
       "    </tr>\n",
       "    <tr>\n",
       "      <th>4</th>\n",
       "      <td>swift</td>\n",
       "      <td>2014</td>\n",
       "      <td>4.60</td>\n",
       "      <td>6.87</td>\n",
       "      <td>42450</td>\n",
       "      <td>Diesel</td>\n",
       "      <td>Dealer</td>\n",
       "      <td>Manual</td>\n",
       "      <td>0</td>\n",
       "    </tr>\n",
       "  </tbody>\n",
       "</table>\n",
       "</div>"
      ],
      "text/plain": [
       "  Car_Name  Year  Selling_Price  Present_Price  Kms_Driven Fuel_Type  \\\n",
       "0     ritz  2014           3.35           5.59       27000    Petrol   \n",
       "1      sx4  2013           4.75           9.54       43000    Diesel   \n",
       "2     ciaz  2017           7.25           9.85        6900    Petrol   \n",
       "3  wagon r  2011           2.85           4.15        5200    Petrol   \n",
       "4    swift  2014           4.60           6.87       42450    Diesel   \n",
       "\n",
       "  Seller_Type Transmission  Owner  \n",
       "0      Dealer       Manual      0  \n",
       "1      Dealer       Manual      0  \n",
       "2      Dealer       Manual      0  \n",
       "3      Dealer       Manual      0  \n",
       "4      Dealer       Manual      0  "
      ]
     },
     "execution_count": 2,
     "metadata": {},
     "output_type": "execute_result"
    }
   ],
   "source": [
    "df = pd.read_csv('car data.csv')\n",
    "df.head()"
   ]
  },
  {
   "cell_type": "code",
   "execution_count": 3,
   "id": "13fa2103-523a-4fd6-873b-45c39073a0f8",
   "metadata": {},
   "outputs": [
    {
     "data": {
      "text/plain": [
       "\u001b[1;31mSignature:\u001b[0m\n",
       "\u001b[0mdf\u001b[0m\u001b[1;33m.\u001b[0m\u001b[0mdrop\u001b[0m\u001b[1;33m(\u001b[0m\u001b[1;33m\n",
       "\u001b[0m    \u001b[0mlabels\u001b[0m\u001b[1;33m:\u001b[0m \u001b[1;34m'IndexLabel | None'\u001b[0m \u001b[1;33m=\u001b[0m \u001b[1;32mNone\u001b[0m\u001b[1;33m,\u001b[0m\u001b[1;33m\n",
       "\u001b[0m    \u001b[1;33m*\u001b[0m\u001b[1;33m,\u001b[0m\u001b[1;33m\n",
       "\u001b[0m    \u001b[0maxis\u001b[0m\u001b[1;33m:\u001b[0m \u001b[1;34m'Axis'\u001b[0m \u001b[1;33m=\u001b[0m \u001b[1;36m0\u001b[0m\u001b[1;33m,\u001b[0m\u001b[1;33m\n",
       "\u001b[0m    \u001b[0mindex\u001b[0m\u001b[1;33m:\u001b[0m \u001b[1;34m'IndexLabel | None'\u001b[0m \u001b[1;33m=\u001b[0m \u001b[1;32mNone\u001b[0m\u001b[1;33m,\u001b[0m\u001b[1;33m\n",
       "\u001b[0m    \u001b[0mcolumns\u001b[0m\u001b[1;33m:\u001b[0m \u001b[1;34m'IndexLabel | None'\u001b[0m \u001b[1;33m=\u001b[0m \u001b[1;32mNone\u001b[0m\u001b[1;33m,\u001b[0m\u001b[1;33m\n",
       "\u001b[0m    \u001b[0mlevel\u001b[0m\u001b[1;33m:\u001b[0m \u001b[1;34m'Level | None'\u001b[0m \u001b[1;33m=\u001b[0m \u001b[1;32mNone\u001b[0m\u001b[1;33m,\u001b[0m\u001b[1;33m\n",
       "\u001b[0m    \u001b[0minplace\u001b[0m\u001b[1;33m:\u001b[0m \u001b[1;34m'bool'\u001b[0m \u001b[1;33m=\u001b[0m \u001b[1;32mFalse\u001b[0m\u001b[1;33m,\u001b[0m\u001b[1;33m\n",
       "\u001b[0m    \u001b[0merrors\u001b[0m\u001b[1;33m:\u001b[0m \u001b[1;34m'IgnoreRaise'\u001b[0m \u001b[1;33m=\u001b[0m \u001b[1;34m'raise'\u001b[0m\u001b[1;33m,\u001b[0m\u001b[1;33m\n",
       "\u001b[0m\u001b[1;33m)\u001b[0m \u001b[1;33m->\u001b[0m \u001b[1;34m'DataFrame | None'\u001b[0m\u001b[1;33m\u001b[0m\u001b[1;33m\u001b[0m\u001b[0m\n",
       "\u001b[1;31mSource:\u001b[0m   \n",
       "    \u001b[1;32mdef\u001b[0m \u001b[0mdrop\u001b[0m\u001b[1;33m(\u001b[0m\u001b[1;33m\n",
       "\u001b[0m        \u001b[0mself\u001b[0m\u001b[1;33m,\u001b[0m\u001b[1;33m\n",
       "\u001b[0m        \u001b[0mlabels\u001b[0m\u001b[1;33m:\u001b[0m \u001b[0mIndexLabel\u001b[0m \u001b[1;33m|\u001b[0m \u001b[1;32mNone\u001b[0m \u001b[1;33m=\u001b[0m \u001b[1;32mNone\u001b[0m\u001b[1;33m,\u001b[0m\u001b[1;33m\n",
       "\u001b[0m        \u001b[1;33m*\u001b[0m\u001b[1;33m,\u001b[0m\u001b[1;33m\n",
       "\u001b[0m        \u001b[0maxis\u001b[0m\u001b[1;33m:\u001b[0m \u001b[0mAxis\u001b[0m \u001b[1;33m=\u001b[0m \u001b[1;36m0\u001b[0m\u001b[1;33m,\u001b[0m\u001b[1;33m\n",
       "\u001b[0m        \u001b[0mindex\u001b[0m\u001b[1;33m:\u001b[0m \u001b[0mIndexLabel\u001b[0m \u001b[1;33m|\u001b[0m \u001b[1;32mNone\u001b[0m \u001b[1;33m=\u001b[0m \u001b[1;32mNone\u001b[0m\u001b[1;33m,\u001b[0m\u001b[1;33m\n",
       "\u001b[0m        \u001b[0mcolumns\u001b[0m\u001b[1;33m:\u001b[0m \u001b[0mIndexLabel\u001b[0m \u001b[1;33m|\u001b[0m \u001b[1;32mNone\u001b[0m \u001b[1;33m=\u001b[0m \u001b[1;32mNone\u001b[0m\u001b[1;33m,\u001b[0m\u001b[1;33m\n",
       "\u001b[0m        \u001b[0mlevel\u001b[0m\u001b[1;33m:\u001b[0m \u001b[0mLevel\u001b[0m \u001b[1;33m|\u001b[0m \u001b[1;32mNone\u001b[0m \u001b[1;33m=\u001b[0m \u001b[1;32mNone\u001b[0m\u001b[1;33m,\u001b[0m\u001b[1;33m\n",
       "\u001b[0m        \u001b[0minplace\u001b[0m\u001b[1;33m:\u001b[0m \u001b[0mbool\u001b[0m \u001b[1;33m=\u001b[0m \u001b[1;32mFalse\u001b[0m\u001b[1;33m,\u001b[0m\u001b[1;33m\n",
       "\u001b[0m        \u001b[0merrors\u001b[0m\u001b[1;33m:\u001b[0m \u001b[0mIgnoreRaise\u001b[0m \u001b[1;33m=\u001b[0m \u001b[1;34m\"raise\"\u001b[0m\u001b[1;33m,\u001b[0m\u001b[1;33m\n",
       "\u001b[0m    \u001b[1;33m)\u001b[0m \u001b[1;33m->\u001b[0m \u001b[0mDataFrame\u001b[0m \u001b[1;33m|\u001b[0m \u001b[1;32mNone\u001b[0m\u001b[1;33m:\u001b[0m\u001b[1;33m\n",
       "\u001b[0m        \u001b[1;34m\"\"\"\n",
       "        Drop specified labels from rows or columns.\n",
       "\n",
       "        Remove rows or columns by specifying label names and corresponding\n",
       "        axis, or by directly specifying index or column names. When using a\n",
       "        multi-index, labels on different levels can be removed by specifying\n",
       "        the level. See the :ref:`user guide <advanced.shown_levels>`\n",
       "        for more information about the now unused levels.\n",
       "\n",
       "        Parameters\n",
       "        ----------\n",
       "        labels : single label or list-like\n",
       "            Index or column labels to drop. A tuple will be used as a single\n",
       "            label and not treated as a list-like.\n",
       "        axis : {0 or 'index', 1 or 'columns'}, default 0\n",
       "            Whether to drop labels from the index (0 or 'index') or\n",
       "            columns (1 or 'columns').\n",
       "        index : single label or list-like\n",
       "            Alternative to specifying axis (``labels, axis=0``\n",
       "            is equivalent to ``index=labels``).\n",
       "        columns : single label or list-like\n",
       "            Alternative to specifying axis (``labels, axis=1``\n",
       "            is equivalent to ``columns=labels``).\n",
       "        level : int or level name, optional\n",
       "            For MultiIndex, level from which the labels will be removed.\n",
       "        inplace : bool, default False\n",
       "            If False, return a copy. Otherwise, do operation\n",
       "            in place and return None.\n",
       "        errors : {'ignore', 'raise'}, default 'raise'\n",
       "            If 'ignore', suppress error and only existing labels are\n",
       "            dropped.\n",
       "\n",
       "        Returns\n",
       "        -------\n",
       "        DataFrame or None\n",
       "            Returns DataFrame or None DataFrame with the specified\n",
       "            index or column labels removed or None if inplace=True.\n",
       "\n",
       "        Raises\n",
       "        ------\n",
       "        KeyError\n",
       "            If any of the labels is not found in the selected axis.\n",
       "\n",
       "        See Also\n",
       "        --------\n",
       "        DataFrame.loc : Label-location based indexer for selection by label.\n",
       "        DataFrame.dropna : Return DataFrame with labels on given axis omitted\n",
       "            where (all or any) data are missing.\n",
       "        DataFrame.drop_duplicates : Return DataFrame with duplicate rows\n",
       "            removed, optionally only considering certain columns.\n",
       "        Series.drop : Return Series with specified index labels removed.\n",
       "\n",
       "        Examples\n",
       "        --------\n",
       "        >>> df = pd.DataFrame(np.arange(12).reshape(3, 4),\n",
       "        ...                   columns=['A', 'B', 'C', 'D'])\n",
       "        >>> df\n",
       "           A  B   C   D\n",
       "        0  0  1   2   3\n",
       "        1  4  5   6   7\n",
       "        2  8  9  10  11\n",
       "\n",
       "        Drop columns\n",
       "\n",
       "        >>> df.drop(['B', 'C'], axis=1)\n",
       "           A   D\n",
       "        0  0   3\n",
       "        1  4   7\n",
       "        2  8  11\n",
       "\n",
       "        >>> df.drop(columns=['B', 'C'])\n",
       "           A   D\n",
       "        0  0   3\n",
       "        1  4   7\n",
       "        2  8  11\n",
       "\n",
       "        Drop a row by index\n",
       "\n",
       "        >>> df.drop([0, 1])\n",
       "           A  B   C   D\n",
       "        2  8  9  10  11\n",
       "\n",
       "        Drop columns and/or rows of MultiIndex DataFrame\n",
       "\n",
       "        >>> midx = pd.MultiIndex(levels=[['llama', 'cow', 'falcon'],\n",
       "        ...                              ['speed', 'weight', 'length']],\n",
       "        ...                      codes=[[0, 0, 0, 1, 1, 1, 2, 2, 2],\n",
       "        ...                             [0, 1, 2, 0, 1, 2, 0, 1, 2]])\n",
       "        >>> df = pd.DataFrame(index=midx, columns=['big', 'small'],\n",
       "        ...                   data=[[45, 30], [200, 100], [1.5, 1], [30, 20],\n",
       "        ...                         [250, 150], [1.5, 0.8], [320, 250],\n",
       "        ...                         [1, 0.8], [0.3, 0.2]])\n",
       "        >>> df\n",
       "                        big     small\n",
       "        llama   speed   45.0    30.0\n",
       "                weight  200.0   100.0\n",
       "                length  1.5     1.0\n",
       "        cow     speed   30.0    20.0\n",
       "                weight  250.0   150.0\n",
       "                length  1.5     0.8\n",
       "        falcon  speed   320.0   250.0\n",
       "                weight  1.0     0.8\n",
       "                length  0.3     0.2\n",
       "\n",
       "        Drop a specific index combination from the MultiIndex\n",
       "        DataFrame, i.e., drop the combination ``'falcon'`` and\n",
       "        ``'weight'``, which deletes only the corresponding row\n",
       "\n",
       "        >>> df.drop(index=('falcon', 'weight'))\n",
       "                        big     small\n",
       "        llama   speed   45.0    30.0\n",
       "                weight  200.0   100.0\n",
       "                length  1.5     1.0\n",
       "        cow     speed   30.0    20.0\n",
       "                weight  250.0   150.0\n",
       "                length  1.5     0.8\n",
       "        falcon  speed   320.0   250.0\n",
       "                length  0.3     0.2\n",
       "\n",
       "        >>> df.drop(index='cow', columns='small')\n",
       "                        big\n",
       "        llama   speed   45.0\n",
       "                weight  200.0\n",
       "                length  1.5\n",
       "        falcon  speed   320.0\n",
       "                weight  1.0\n",
       "                length  0.3\n",
       "\n",
       "        >>> df.drop(index='length', level=1)\n",
       "                        big     small\n",
       "        llama   speed   45.0    30.0\n",
       "                weight  200.0   100.0\n",
       "        cow     speed   30.0    20.0\n",
       "                weight  250.0   150.0\n",
       "        falcon  speed   320.0   250.0\n",
       "                weight  1.0     0.8\n",
       "        \"\"\"\u001b[0m\u001b[1;33m\n",
       "\u001b[0m        \u001b[1;32mreturn\u001b[0m \u001b[0msuper\u001b[0m\u001b[1;33m(\u001b[0m\u001b[1;33m)\u001b[0m\u001b[1;33m.\u001b[0m\u001b[0mdrop\u001b[0m\u001b[1;33m(\u001b[0m\u001b[1;33m\n",
       "\u001b[0m            \u001b[0mlabels\u001b[0m\u001b[1;33m=\u001b[0m\u001b[0mlabels\u001b[0m\u001b[1;33m,\u001b[0m\u001b[1;33m\n",
       "\u001b[0m            \u001b[0maxis\u001b[0m\u001b[1;33m=\u001b[0m\u001b[0maxis\u001b[0m\u001b[1;33m,\u001b[0m\u001b[1;33m\n",
       "\u001b[0m            \u001b[0mindex\u001b[0m\u001b[1;33m=\u001b[0m\u001b[0mindex\u001b[0m\u001b[1;33m,\u001b[0m\u001b[1;33m\n",
       "\u001b[0m            \u001b[0mcolumns\u001b[0m\u001b[1;33m=\u001b[0m\u001b[0mcolumns\u001b[0m\u001b[1;33m,\u001b[0m\u001b[1;33m\n",
       "\u001b[0m            \u001b[0mlevel\u001b[0m\u001b[1;33m=\u001b[0m\u001b[0mlevel\u001b[0m\u001b[1;33m,\u001b[0m\u001b[1;33m\n",
       "\u001b[0m            \u001b[0minplace\u001b[0m\u001b[1;33m=\u001b[0m\u001b[0minplace\u001b[0m\u001b[1;33m,\u001b[0m\u001b[1;33m\n",
       "\u001b[0m            \u001b[0merrors\u001b[0m\u001b[1;33m=\u001b[0m\u001b[0merrors\u001b[0m\u001b[1;33m,\u001b[0m\u001b[1;33m\n",
       "\u001b[0m        \u001b[1;33m)\u001b[0m\u001b[1;33m\u001b[0m\u001b[1;33m\u001b[0m\u001b[0m\n",
       "\u001b[1;31mFile:\u001b[0m      c:\\users\\omprakash.n\\appdata\\local\\anaconda3\\lib\\site-packages\\pandas\\core\\frame.py\n",
       "\u001b[1;31mType:\u001b[0m      method"
      ]
     },
     "metadata": {},
     "output_type": "display_data"
    }
   ],
   "source": [
    "df.drop??"
   ]
  },
  {
   "cell_type": "code",
   "execution_count": 4,
   "id": "47622d0a-2533-419d-a1d4-ce37ae66aea2",
   "metadata": {},
   "outputs": [],
   "source": [
    "df.drop(columns=['Car_Name', 'Seller_Type'],inplace=True, axis=1)"
   ]
  },
  {
   "cell_type": "code",
   "execution_count": 5,
   "id": "93f35d1c-29e3-4980-9324-cf0b1bc7dc18",
   "metadata": {},
   "outputs": [
    {
     "data": {
      "text/html": [
       "<div>\n",
       "<style scoped>\n",
       "    .dataframe tbody tr th:only-of-type {\n",
       "        vertical-align: middle;\n",
       "    }\n",
       "\n",
       "    .dataframe tbody tr th {\n",
       "        vertical-align: top;\n",
       "    }\n",
       "\n",
       "    .dataframe thead th {\n",
       "        text-align: right;\n",
       "    }\n",
       "</style>\n",
       "<table border=\"1\" class=\"dataframe\">\n",
       "  <thead>\n",
       "    <tr style=\"text-align: right;\">\n",
       "      <th></th>\n",
       "      <th>Year</th>\n",
       "      <th>Selling_Price</th>\n",
       "      <th>Present_Price</th>\n",
       "      <th>Kms_Driven</th>\n",
       "      <th>Fuel_Type</th>\n",
       "      <th>Transmission</th>\n",
       "      <th>Owner</th>\n",
       "    </tr>\n",
       "  </thead>\n",
       "  <tbody>\n",
       "    <tr>\n",
       "      <th>0</th>\n",
       "      <td>2014</td>\n",
       "      <td>3.35</td>\n",
       "      <td>5.59</td>\n",
       "      <td>27000</td>\n",
       "      <td>Petrol</td>\n",
       "      <td>Manual</td>\n",
       "      <td>0</td>\n",
       "    </tr>\n",
       "    <tr>\n",
       "      <th>1</th>\n",
       "      <td>2013</td>\n",
       "      <td>4.75</td>\n",
       "      <td>9.54</td>\n",
       "      <td>43000</td>\n",
       "      <td>Diesel</td>\n",
       "      <td>Manual</td>\n",
       "      <td>0</td>\n",
       "    </tr>\n",
       "    <tr>\n",
       "      <th>2</th>\n",
       "      <td>2017</td>\n",
       "      <td>7.25</td>\n",
       "      <td>9.85</td>\n",
       "      <td>6900</td>\n",
       "      <td>Petrol</td>\n",
       "      <td>Manual</td>\n",
       "      <td>0</td>\n",
       "    </tr>\n",
       "    <tr>\n",
       "      <th>3</th>\n",
       "      <td>2011</td>\n",
       "      <td>2.85</td>\n",
       "      <td>4.15</td>\n",
       "      <td>5200</td>\n",
       "      <td>Petrol</td>\n",
       "      <td>Manual</td>\n",
       "      <td>0</td>\n",
       "    </tr>\n",
       "    <tr>\n",
       "      <th>4</th>\n",
       "      <td>2014</td>\n",
       "      <td>4.60</td>\n",
       "      <td>6.87</td>\n",
       "      <td>42450</td>\n",
       "      <td>Diesel</td>\n",
       "      <td>Manual</td>\n",
       "      <td>0</td>\n",
       "    </tr>\n",
       "  </tbody>\n",
       "</table>\n",
       "</div>"
      ],
      "text/plain": [
       "   Year  Selling_Price  Present_Price  Kms_Driven Fuel_Type Transmission  \\\n",
       "0  2014           3.35           5.59       27000    Petrol       Manual   \n",
       "1  2013           4.75           9.54       43000    Diesel       Manual   \n",
       "2  2017           7.25           9.85        6900    Petrol       Manual   \n",
       "3  2011           2.85           4.15        5200    Petrol       Manual   \n",
       "4  2014           4.60           6.87       42450    Diesel       Manual   \n",
       "\n",
       "   Owner  \n",
       "0      0  \n",
       "1      0  \n",
       "2      0  \n",
       "3      0  \n",
       "4      0  "
      ]
     },
     "execution_count": 5,
     "metadata": {},
     "output_type": "execute_result"
    }
   ],
   "source": [
    "df.head()"
   ]
  },
  {
   "cell_type": "code",
   "execution_count": 6,
   "id": "b81b3451-1e27-4f99-b5bc-b7e856d46195",
   "metadata": {},
   "outputs": [
    {
     "data": {
      "text/plain": [
       "Year             0\n",
       "Selling_Price    0\n",
       "Present_Price    0\n",
       "Kms_Driven       0\n",
       "Fuel_Type        0\n",
       "Transmission     0\n",
       "Owner            0\n",
       "dtype: int64"
      ]
     },
     "execution_count": 6,
     "metadata": {},
     "output_type": "execute_result"
    }
   ],
   "source": [
    "df.isnull().sum()"
   ]
  },
  {
   "cell_type": "code",
   "execution_count": 7,
   "id": "52be8fdd-16a1-48ef-aab7-b99f88260cf6",
   "metadata": {},
   "outputs": [
    {
     "data": {
      "text/plain": [
       "(301, 7)"
      ]
     },
     "execution_count": 7,
     "metadata": {},
     "output_type": "execute_result"
    }
   ],
   "source": [
    "df.shape"
   ]
  },
  {
   "cell_type": "code",
   "execution_count": 8,
   "id": "16be7479-67dc-451a-b742-1bd7ec200d27",
   "metadata": {},
   "outputs": [
    {
     "data": {
      "text/html": [
       "<div>\n",
       "<style scoped>\n",
       "    .dataframe tbody tr th:only-of-type {\n",
       "        vertical-align: middle;\n",
       "    }\n",
       "\n",
       "    .dataframe tbody tr th {\n",
       "        vertical-align: top;\n",
       "    }\n",
       "\n",
       "    .dataframe thead th {\n",
       "        text-align: right;\n",
       "    }\n",
       "</style>\n",
       "<table border=\"1\" class=\"dataframe\">\n",
       "  <thead>\n",
       "    <tr style=\"text-align: right;\">\n",
       "      <th></th>\n",
       "      <th>Year</th>\n",
       "      <th>Selling_Price</th>\n",
       "      <th>Present_Price</th>\n",
       "      <th>Kms_Driven</th>\n",
       "      <th>Owner</th>\n",
       "    </tr>\n",
       "  </thead>\n",
       "  <tbody>\n",
       "    <tr>\n",
       "      <th>count</th>\n",
       "      <td>301.000000</td>\n",
       "      <td>301.000000</td>\n",
       "      <td>301.000000</td>\n",
       "      <td>301.000000</td>\n",
       "      <td>301.000000</td>\n",
       "    </tr>\n",
       "    <tr>\n",
       "      <th>mean</th>\n",
       "      <td>2013.627907</td>\n",
       "      <td>4.661296</td>\n",
       "      <td>7.628472</td>\n",
       "      <td>36947.205980</td>\n",
       "      <td>0.043189</td>\n",
       "    </tr>\n",
       "    <tr>\n",
       "      <th>std</th>\n",
       "      <td>2.891554</td>\n",
       "      <td>5.082812</td>\n",
       "      <td>8.644115</td>\n",
       "      <td>38886.883882</td>\n",
       "      <td>0.247915</td>\n",
       "    </tr>\n",
       "    <tr>\n",
       "      <th>min</th>\n",
       "      <td>2003.000000</td>\n",
       "      <td>0.100000</td>\n",
       "      <td>0.320000</td>\n",
       "      <td>500.000000</td>\n",
       "      <td>0.000000</td>\n",
       "    </tr>\n",
       "    <tr>\n",
       "      <th>25%</th>\n",
       "      <td>2012.000000</td>\n",
       "      <td>0.900000</td>\n",
       "      <td>1.200000</td>\n",
       "      <td>15000.000000</td>\n",
       "      <td>0.000000</td>\n",
       "    </tr>\n",
       "    <tr>\n",
       "      <th>50%</th>\n",
       "      <td>2014.000000</td>\n",
       "      <td>3.600000</td>\n",
       "      <td>6.400000</td>\n",
       "      <td>32000.000000</td>\n",
       "      <td>0.000000</td>\n",
       "    </tr>\n",
       "    <tr>\n",
       "      <th>75%</th>\n",
       "      <td>2016.000000</td>\n",
       "      <td>6.000000</td>\n",
       "      <td>9.900000</td>\n",
       "      <td>48767.000000</td>\n",
       "      <td>0.000000</td>\n",
       "    </tr>\n",
       "    <tr>\n",
       "      <th>max</th>\n",
       "      <td>2018.000000</td>\n",
       "      <td>35.000000</td>\n",
       "      <td>92.600000</td>\n",
       "      <td>500000.000000</td>\n",
       "      <td>3.000000</td>\n",
       "    </tr>\n",
       "  </tbody>\n",
       "</table>\n",
       "</div>"
      ],
      "text/plain": [
       "              Year  Selling_Price  Present_Price     Kms_Driven       Owner\n",
       "count   301.000000     301.000000     301.000000     301.000000  301.000000\n",
       "mean   2013.627907       4.661296       7.628472   36947.205980    0.043189\n",
       "std       2.891554       5.082812       8.644115   38886.883882    0.247915\n",
       "min    2003.000000       0.100000       0.320000     500.000000    0.000000\n",
       "25%    2012.000000       0.900000       1.200000   15000.000000    0.000000\n",
       "50%    2014.000000       3.600000       6.400000   32000.000000    0.000000\n",
       "75%    2016.000000       6.000000       9.900000   48767.000000    0.000000\n",
       "max    2018.000000      35.000000      92.600000  500000.000000    3.000000"
      ]
     },
     "execution_count": 8,
     "metadata": {},
     "output_type": "execute_result"
    }
   ],
   "source": [
    "df.describe()"
   ]
  },
  {
   "cell_type": "code",
   "execution_count": 9,
   "id": "47c5c159-52a2-4b56-9176-a57913b5a5a6",
   "metadata": {},
   "outputs": [
    {
     "data": {
      "text/html": [
       "<div>\n",
       "<style scoped>\n",
       "    .dataframe tbody tr th:only-of-type {\n",
       "        vertical-align: middle;\n",
       "    }\n",
       "\n",
       "    .dataframe tbody tr th {\n",
       "        vertical-align: top;\n",
       "    }\n",
       "\n",
       "    .dataframe thead th {\n",
       "        text-align: right;\n",
       "    }\n",
       "</style>\n",
       "<table border=\"1\" class=\"dataframe\">\n",
       "  <thead>\n",
       "    <tr style=\"text-align: right;\">\n",
       "      <th></th>\n",
       "      <th>Year</th>\n",
       "      <th>Selling_Price</th>\n",
       "      <th>Present_Price</th>\n",
       "      <th>Kms_Driven</th>\n",
       "      <th>Owner</th>\n",
       "      <th>Fuel_Type_Diesel</th>\n",
       "      <th>Fuel_Type_Petrol</th>\n",
       "      <th>Transmission_Manual</th>\n",
       "    </tr>\n",
       "  </thead>\n",
       "  <tbody>\n",
       "    <tr>\n",
       "      <th>0</th>\n",
       "      <td>2014</td>\n",
       "      <td>3.35</td>\n",
       "      <td>5.59</td>\n",
       "      <td>27000</td>\n",
       "      <td>0</td>\n",
       "      <td>0</td>\n",
       "      <td>1</td>\n",
       "      <td>1</td>\n",
       "    </tr>\n",
       "    <tr>\n",
       "      <th>1</th>\n",
       "      <td>2013</td>\n",
       "      <td>4.75</td>\n",
       "      <td>9.54</td>\n",
       "      <td>43000</td>\n",
       "      <td>0</td>\n",
       "      <td>1</td>\n",
       "      <td>0</td>\n",
       "      <td>1</td>\n",
       "    </tr>\n",
       "    <tr>\n",
       "      <th>2</th>\n",
       "      <td>2017</td>\n",
       "      <td>7.25</td>\n",
       "      <td>9.85</td>\n",
       "      <td>6900</td>\n",
       "      <td>0</td>\n",
       "      <td>0</td>\n",
       "      <td>1</td>\n",
       "      <td>1</td>\n",
       "    </tr>\n",
       "    <tr>\n",
       "      <th>3</th>\n",
       "      <td>2011</td>\n",
       "      <td>2.85</td>\n",
       "      <td>4.15</td>\n",
       "      <td>5200</td>\n",
       "      <td>0</td>\n",
       "      <td>0</td>\n",
       "      <td>1</td>\n",
       "      <td>1</td>\n",
       "    </tr>\n",
       "    <tr>\n",
       "      <th>4</th>\n",
       "      <td>2014</td>\n",
       "      <td>4.60</td>\n",
       "      <td>6.87</td>\n",
       "      <td>42450</td>\n",
       "      <td>0</td>\n",
       "      <td>1</td>\n",
       "      <td>0</td>\n",
       "      <td>1</td>\n",
       "    </tr>\n",
       "  </tbody>\n",
       "</table>\n",
       "</div>"
      ],
      "text/plain": [
       "   Year  Selling_Price  Present_Price  Kms_Driven  Owner  Fuel_Type_Diesel  \\\n",
       "0  2014           3.35           5.59       27000      0                 0   \n",
       "1  2013           4.75           9.54       43000      0                 1   \n",
       "2  2017           7.25           9.85        6900      0                 0   \n",
       "3  2011           2.85           4.15        5200      0                 0   \n",
       "4  2014           4.60           6.87       42450      0                 1   \n",
       "\n",
       "   Fuel_Type_Petrol  Transmission_Manual  \n",
       "0                 1                    1  \n",
       "1                 0                    1  \n",
       "2                 1                    1  \n",
       "3                 1                    1  \n",
       "4                 0                    1  "
      ]
     },
     "execution_count": 9,
     "metadata": {},
     "output_type": "execute_result"
    }
   ],
   "source": [
    "df = pd.get_dummies(df, columns=['Fuel_Type', 'Transmission'], drop_first=True, dtype=int)\n",
    "df.head()"
   ]
  },
  {
   "cell_type": "code",
   "execution_count": 10,
   "id": "c3b4f655-3a50-4af7-beec-c8f6d4a0cf02",
   "metadata": {},
   "outputs": [],
   "source": [
    "X = df.drop('Selling_Price', axis=1)\n",
    "y = df['Selling_Price']"
   ]
  },
  {
   "cell_type": "code",
   "execution_count": 11,
   "id": "7aa41ba5-65c0-4f29-83f5-28a3e4e1cc75",
   "metadata": {},
   "outputs": [
    {
     "data": {
      "text/html": [
       "<div>\n",
       "<style scoped>\n",
       "    .dataframe tbody tr th:only-of-type {\n",
       "        vertical-align: middle;\n",
       "    }\n",
       "\n",
       "    .dataframe tbody tr th {\n",
       "        vertical-align: top;\n",
       "    }\n",
       "\n",
       "    .dataframe thead th {\n",
       "        text-align: right;\n",
       "    }\n",
       "</style>\n",
       "<table border=\"1\" class=\"dataframe\">\n",
       "  <thead>\n",
       "    <tr style=\"text-align: right;\">\n",
       "      <th></th>\n",
       "      <th>Year</th>\n",
       "      <th>Present_Price</th>\n",
       "      <th>Kms_Driven</th>\n",
       "      <th>Owner</th>\n",
       "      <th>Fuel_Type_Diesel</th>\n",
       "      <th>Fuel_Type_Petrol</th>\n",
       "      <th>Transmission_Manual</th>\n",
       "    </tr>\n",
       "  </thead>\n",
       "  <tbody>\n",
       "    <tr>\n",
       "      <th>0</th>\n",
       "      <td>2014</td>\n",
       "      <td>5.59</td>\n",
       "      <td>27000</td>\n",
       "      <td>0</td>\n",
       "      <td>0</td>\n",
       "      <td>1</td>\n",
       "      <td>1</td>\n",
       "    </tr>\n",
       "    <tr>\n",
       "      <th>1</th>\n",
       "      <td>2013</td>\n",
       "      <td>9.54</td>\n",
       "      <td>43000</td>\n",
       "      <td>0</td>\n",
       "      <td>1</td>\n",
       "      <td>0</td>\n",
       "      <td>1</td>\n",
       "    </tr>\n",
       "    <tr>\n",
       "      <th>2</th>\n",
       "      <td>2017</td>\n",
       "      <td>9.85</td>\n",
       "      <td>6900</td>\n",
       "      <td>0</td>\n",
       "      <td>0</td>\n",
       "      <td>1</td>\n",
       "      <td>1</td>\n",
       "    </tr>\n",
       "    <tr>\n",
       "      <th>3</th>\n",
       "      <td>2011</td>\n",
       "      <td>4.15</td>\n",
       "      <td>5200</td>\n",
       "      <td>0</td>\n",
       "      <td>0</td>\n",
       "      <td>1</td>\n",
       "      <td>1</td>\n",
       "    </tr>\n",
       "    <tr>\n",
       "      <th>4</th>\n",
       "      <td>2014</td>\n",
       "      <td>6.87</td>\n",
       "      <td>42450</td>\n",
       "      <td>0</td>\n",
       "      <td>1</td>\n",
       "      <td>0</td>\n",
       "      <td>1</td>\n",
       "    </tr>\n",
       "  </tbody>\n",
       "</table>\n",
       "</div>"
      ],
      "text/plain": [
       "   Year  Present_Price  Kms_Driven  Owner  Fuel_Type_Diesel  Fuel_Type_Petrol  \\\n",
       "0  2014           5.59       27000      0                 0                 1   \n",
       "1  2013           9.54       43000      0                 1                 0   \n",
       "2  2017           9.85        6900      0                 0                 1   \n",
       "3  2011           4.15        5200      0                 0                 1   \n",
       "4  2014           6.87       42450      0                 1                 0   \n",
       "\n",
       "   Transmission_Manual  \n",
       "0                    1  \n",
       "1                    1  \n",
       "2                    1  \n",
       "3                    1  \n",
       "4                    1  "
      ]
     },
     "execution_count": 11,
     "metadata": {},
     "output_type": "execute_result"
    }
   ],
   "source": [
    "X.head()"
   ]
  },
  {
   "cell_type": "code",
   "execution_count": 12,
   "id": "079c53ef-6382-49c7-a1ca-7ed174b2384e",
   "metadata": {},
   "outputs": [
    {
     "data": {
      "text/plain": [
       "0    3.35\n",
       "1    4.75\n",
       "2    7.25\n",
       "3    2.85\n",
       "4    4.60\n",
       "Name: Selling_Price, dtype: float64"
      ]
     },
     "execution_count": 12,
     "metadata": {},
     "output_type": "execute_result"
    }
   ],
   "source": [
    "y.head()"
   ]
  },
  {
   "cell_type": "code",
   "execution_count": 13,
   "id": "cca64538-53b1-4ded-bebc-97274574c206",
   "metadata": {},
   "outputs": [
    {
     "data": {
      "text/plain": [
       "(     Year  Present_Price  Kms_Driven  Owner  Fuel_Type_Diesel  \\\n",
       " 293  2010          9.900       38000      0                 0   \n",
       " 17   2016         10.790       43000      0                 1   \n",
       " 114  2015          1.470       17000      0                 0   \n",
       " 213  2011          6.790       31604      0                 0   \n",
       " 161  2014          0.826       23000      0                 0   \n",
       " 234  2015          5.700        4492      0                 0   \n",
       " 138  2016          0.870       15000      0                 0   \n",
       " 115  2015          1.470       17500      0                 0   \n",
       " 78   2010         22.830       80000      0                 0   \n",
       " 82   2017         25.390       15000      0                 1   \n",
       " 207  2015          5.700       34797      0                 0   \n",
       " 26   2013          5.870       55138      0                 0   \n",
       " 265  2017          8.700       21200      0                 0   \n",
       " 8    2016          8.890       20273      0                 1   \n",
       " 267  2016          9.400       19434      0                 1   \n",
       " 27   2017          6.490       16200      0                 0   \n",
       " 4    2014          6.870       42450      0                 1   \n",
       " 142  2015          0.840       29000      0                 0   \n",
       " 22   2011          8.010       50000      0                 0   \n",
       " 180  2012          0.510       60000      0                 0   \n",
       " 70   2014          6.760       71000      0                 1   \n",
       " 3    2011          4.150        5200      0                 0   \n",
       " 42   2008          7.150       58000      0                 0   \n",
       " 191  2012          0.570       25000      1                 0   \n",
       " 281  2006          7.600       50456      0                 0   \n",
       " 294  2014          6.800       33019      0                 0   \n",
       " 75   2015          6.800       36000      0                 0   \n",
       " 187  2013          0.510       32000      0                 0   \n",
       " 79   2012         30.610       89000      0                 1   \n",
       " 285  2016          8.500       15059      0                 0   \n",
       " 43   2014          8.060       45780      0                 1   \n",
       " 248  2013          4.600       30000      0                 0   \n",
       " 259  2014          7.000       36054      0                 0   \n",
       " 274  2014          6.800       16500      0                 0   \n",
       " 262  2015          5.800       40023      0                 0   \n",
       " 266  2014          7.000       35000      0                 0   \n",
       " 203  2011          4.600       53460      0                 0   \n",
       " 202  2015          5.700       28200      0                 0   \n",
       " 25   2011          4.990       20000      0                 0   \n",
       " 141  2016          0.800       20000      0                 0   \n",
       " 6    2015          8.120       18796      0                 0   \n",
       " 255  2012          5.350       53675      0                 0   \n",
       " 263  2016          7.700       16002      0                 0   \n",
       " 105  2015          2.370       21700      0                 0   \n",
       " 144  2014          0.990       25000      0                 0   \n",
       " 190  2008          0.750       60000      0                 0   \n",
       " 288  2015         13.600       34000      0                 0   \n",
       " 230  2013          9.400       45000      0                 1   \n",
       " 253  2014          9.900       48000      0                 1   \n",
       " 272  2015         10.000       27600      0                 0   \n",
       " 251  2013          9.900       56701      0                 0   \n",
       " 282  2014         14.000       63000      0                 1   \n",
       " 40   2016          7.870       24524      0                 0   \n",
       " 118  2015          1.470       26000      0                 0   \n",
       " 162  2012          0.990       14500      0                 0   \n",
       " 71   2011         12.480       45000      0                 1   \n",
       " 278  2016          8.400        4000      0                 0   \n",
       " 218  2014          9.400       45078      0                 0   \n",
       " 223  2015          9.400       61381      0                 1   \n",
       " 271  2009         10.000       69562      0                 0   \n",
       " \n",
       "      Fuel_Type_Petrol  Transmission_Manual  \n",
       " 293                 1                    1  \n",
       " 17                  0                    1  \n",
       " 114                 1                    1  \n",
       " 213                 1                    1  \n",
       " 161                 1                    1  \n",
       " 234                 1                    1  \n",
       " 138                 1                    1  \n",
       " 115                 1                    1  \n",
       " 78                  1                    0  \n",
       " 82                  0                    0  \n",
       " 207                 1                    0  \n",
       " 26                  1                    1  \n",
       " 265                 1                    1  \n",
       " 8                   0                    1  \n",
       " 267                 0                    1  \n",
       " 27                  1                    1  \n",
       " 4                   0                    1  \n",
       " 142                 1                    1  \n",
       " 22                  1                    0  \n",
       " 180                 1                    1  \n",
       " 70                  0                    1  \n",
       " 3                   1                    1  \n",
       " 42                  1                    1  \n",
       " 191                 1                    1  \n",
       " 281                 1                    1  \n",
       " 294                 1                    1  \n",
       " 75                  1                    1  \n",
       " 187                 1                    1  \n",
       " 79                  0                    0  \n",
       " 285                 1                    0  \n",
       " 43                  0                    1  \n",
       " 248                 1                    1  \n",
       " 259                 1                    1  \n",
       " 274                 1                    1  \n",
       " 262                 1                    1  \n",
       " 266                 1                    1  \n",
       " 203                 1                    1  \n",
       " 202                 1                    1  \n",
       " 25                  1                    1  \n",
       " 141                 1                    1  \n",
       " 6                   1                    1  \n",
       " 255                 1                    1  \n",
       " 263                 1                    1  \n",
       " 105                 1                    1  \n",
       " 144                 1                    1  \n",
       " 190                 1                    1  \n",
       " 288                 1                    1  \n",
       " 230                 0                    1  \n",
       " 253                 0                    1  \n",
       " 272                 1                    1  \n",
       " 251                 1                    1  \n",
       " 282                 0                    1  \n",
       " 40                  1                    0  \n",
       " 118                 1                    1  \n",
       " 162                 1                    1  \n",
       " 71                  0                    1  \n",
       " 278                 1                    1  \n",
       " 218                 1                    1  \n",
       " 223                 0                    1  \n",
       " 271                 1                    1  ,\n",
       "      Year  Present_Price  Kms_Driven  Owner  Fuel_Type_Diesel  \\\n",
       " 211  2015          14.79       43535      0                 1   \n",
       " 298  2009          11.00       87934      0                 0   \n",
       " 28   2010           3.95       44542      0                 0   \n",
       " 286  2016           7.90       28569      0                 0   \n",
       " 132  2017           0.95        3500      0                 0   \n",
       " ..    ...            ...         ...    ...               ...   \n",
       " 123  2013           1.47       46500      0                 0   \n",
       " 212  2016          13.60       22671      0                 0   \n",
       " 60   2013          18.61       40001      0                 0   \n",
       " 283  2016          11.80        9010      0                 0   \n",
       " 250  2016          13.60       35934      0                 1   \n",
       " \n",
       "      Fuel_Type_Petrol  Transmission_Manual  \n",
       " 211                 0                    1  \n",
       " 298                 1                    1  \n",
       " 28                  1                    1  \n",
       " 286                 1                    1  \n",
       " 132                 1                    1  \n",
       " ..                ...                  ...  \n",
       " 123                 1                    1  \n",
       " 212                 1                    1  \n",
       " 60                  1                    1  \n",
       " 283                 1                    1  \n",
       " 250                 0                    1  \n",
       " \n",
       " [241 rows x 7 columns],\n",
       " 293     3.25\n",
       " 17      7.75\n",
       " 114     1.15\n",
       " 213     2.90\n",
       " 161     0.45\n",
       " 234     5.50\n",
       " 138     0.60\n",
       " 115     1.11\n",
       " 78      5.25\n",
       " 82     23.00\n",
       " 207     5.15\n",
       " 26      4.15\n",
       " 265     6.50\n",
       " 8       8.75\n",
       " 267     8.35\n",
       " 27      6.00\n",
       " 4       4.60\n",
       " 142     0.60\n",
       " 22      4.40\n",
       " 180     0.30\n",
       " 70      3.95\n",
       " 3       2.85\n",
       " 42      1.95\n",
       " 191     0.20\n",
       " 281     2.10\n",
       " 294     3.75\n",
       " 75      3.95\n",
       " 187     0.25\n",
       " 79     14.50\n",
       " 285     7.40\n",
       " 43      5.50\n",
       " 248     4.00\n",
       " 259     3.90\n",
       " 274     5.30\n",
       " 262     4.00\n",
       " 266     3.65\n",
       " 203     2.95\n",
       " 202     4.40\n",
       " 25      3.00\n",
       " 141     0.60\n",
       " 6       6.75\n",
       " 255     3.00\n",
       " 263     6.60\n",
       " 105     1.35\n",
       " 144     0.60\n",
       " 190     0.20\n",
       " 288     8.40\n",
       " 230     6.15\n",
       " 253     7.20\n",
       " 272     7.50\n",
       " 251     5.00\n",
       " 282     8.25\n",
       " 40      5.85\n",
       " 118     1.10\n",
       " 162     0.45\n",
       " 71      4.50\n",
       " 278     6.00\n",
       " 218     6.45\n",
       " 223     8.25\n",
       " 271     3.00\n",
       " Name: Selling_Price, dtype: float64,\n",
       " 211    11.75\n",
       " 298     3.35\n",
       " 28      1.95\n",
       " 286     5.65\n",
       " 132     0.75\n",
       "        ...  \n",
       " 123     1.00\n",
       " 212    11.25\n",
       " 60      6.95\n",
       " 283     8.99\n",
       " 250    12.90\n",
       " Name: Selling_Price, Length: 241, dtype: float64)"
      ]
     },
     "execution_count": 13,
     "metadata": {},
     "output_type": "execute_result"
    }
   ],
   "source": [
    "from sklearn.model_selection import train_test_split\n",
    "X_train, X_test, y_train, y_test = train_test_split(X, y, train_size=0.2, random_state=20)\n",
    "X_train, X_test, y_train, y_test"
   ]
  },
  {
   "cell_type": "code",
   "execution_count": 14,
   "id": "b0983de6-1902-449c-8a30-13660e9ab8de",
   "metadata": {},
   "outputs": [],
   "source": [
    "from sklearn.linear_model import LinearRegression"
   ]
  },
  {
   "cell_type": "code",
   "execution_count": 15,
   "id": "600a2432-4e8b-4450-8252-b84aabdaf102",
   "metadata": {},
   "outputs": [
    {
     "data": {
      "text/html": [
       "<style>#sk-container-id-1 {color: black;background-color: white;}#sk-container-id-1 pre{padding: 0;}#sk-container-id-1 div.sk-toggleable {background-color: white;}#sk-container-id-1 label.sk-toggleable__label {cursor: pointer;display: block;width: 100%;margin-bottom: 0;padding: 0.3em;box-sizing: border-box;text-align: center;}#sk-container-id-1 label.sk-toggleable__label-arrow:before {content: \"▸\";float: left;margin-right: 0.25em;color: #696969;}#sk-container-id-1 label.sk-toggleable__label-arrow:hover:before {color: black;}#sk-container-id-1 div.sk-estimator:hover label.sk-toggleable__label-arrow:before {color: black;}#sk-container-id-1 div.sk-toggleable__content {max-height: 0;max-width: 0;overflow: hidden;text-align: left;background-color: #f0f8ff;}#sk-container-id-1 div.sk-toggleable__content pre {margin: 0.2em;color: black;border-radius: 0.25em;background-color: #f0f8ff;}#sk-container-id-1 input.sk-toggleable__control:checked~div.sk-toggleable__content {max-height: 200px;max-width: 100%;overflow: auto;}#sk-container-id-1 input.sk-toggleable__control:checked~label.sk-toggleable__label-arrow:before {content: \"▾\";}#sk-container-id-1 div.sk-estimator input.sk-toggleable__control:checked~label.sk-toggleable__label {background-color: #d4ebff;}#sk-container-id-1 div.sk-label input.sk-toggleable__control:checked~label.sk-toggleable__label {background-color: #d4ebff;}#sk-container-id-1 input.sk-hidden--visually {border: 0;clip: rect(1px 1px 1px 1px);clip: rect(1px, 1px, 1px, 1px);height: 1px;margin: -1px;overflow: hidden;padding: 0;position: absolute;width: 1px;}#sk-container-id-1 div.sk-estimator {font-family: monospace;background-color: #f0f8ff;border: 1px dotted black;border-radius: 0.25em;box-sizing: border-box;margin-bottom: 0.5em;}#sk-container-id-1 div.sk-estimator:hover {background-color: #d4ebff;}#sk-container-id-1 div.sk-parallel-item::after {content: \"\";width: 100%;border-bottom: 1px solid gray;flex-grow: 1;}#sk-container-id-1 div.sk-label:hover label.sk-toggleable__label {background-color: #d4ebff;}#sk-container-id-1 div.sk-serial::before {content: \"\";position: absolute;border-left: 1px solid gray;box-sizing: border-box;top: 0;bottom: 0;left: 50%;z-index: 0;}#sk-container-id-1 div.sk-serial {display: flex;flex-direction: column;align-items: center;background-color: white;padding-right: 0.2em;padding-left: 0.2em;position: relative;}#sk-container-id-1 div.sk-item {position: relative;z-index: 1;}#sk-container-id-1 div.sk-parallel {display: flex;align-items: stretch;justify-content: center;background-color: white;position: relative;}#sk-container-id-1 div.sk-item::before, #sk-container-id-1 div.sk-parallel-item::before {content: \"\";position: absolute;border-left: 1px solid gray;box-sizing: border-box;top: 0;bottom: 0;left: 50%;z-index: -1;}#sk-container-id-1 div.sk-parallel-item {display: flex;flex-direction: column;z-index: 1;position: relative;background-color: white;}#sk-container-id-1 div.sk-parallel-item:first-child::after {align-self: flex-end;width: 50%;}#sk-container-id-1 div.sk-parallel-item:last-child::after {align-self: flex-start;width: 50%;}#sk-container-id-1 div.sk-parallel-item:only-child::after {width: 0;}#sk-container-id-1 div.sk-dashed-wrapped {border: 1px dashed gray;margin: 0 0.4em 0.5em 0.4em;box-sizing: border-box;padding-bottom: 0.4em;background-color: white;}#sk-container-id-1 div.sk-label label {font-family: monospace;font-weight: bold;display: inline-block;line-height: 1.2em;}#sk-container-id-1 div.sk-label-container {text-align: center;}#sk-container-id-1 div.sk-container {/* jupyter's `normalize.less` sets `[hidden] { display: none; }` but bootstrap.min.css set `[hidden] { display: none !important; }` so we also need the `!important` here to be able to override the default hidden behavior on the sphinx rendered scikit-learn.org. See: https://github.com/scikit-learn/scikit-learn/issues/21755 */display: inline-block !important;position: relative;}#sk-container-id-1 div.sk-text-repr-fallback {display: none;}</style><div id=\"sk-container-id-1\" class=\"sk-top-container\"><div class=\"sk-text-repr-fallback\"><pre>LinearRegression()</pre><b>In a Jupyter environment, please rerun this cell to show the HTML representation or trust the notebook. <br />On GitHub, the HTML representation is unable to render, please try loading this page with nbviewer.org.</b></div><div class=\"sk-container\" hidden><div class=\"sk-item\"><div class=\"sk-estimator sk-toggleable\"><input class=\"sk-toggleable__control sk-hidden--visually\" id=\"sk-estimator-id-1\" type=\"checkbox\" checked><label for=\"sk-estimator-id-1\" class=\"sk-toggleable__label sk-toggleable__label-arrow\">LinearRegression</label><div class=\"sk-toggleable__content\"><pre>LinearRegression()</pre></div></div></div></div></div>"
      ],
      "text/plain": [
       "LinearRegression()"
      ]
     },
     "execution_count": 15,
     "metadata": {},
     "output_type": "execute_result"
    }
   ],
   "source": [
    "model = LinearRegression()\n",
    "model.fit(X_train, y_train)"
   ]
  },
  {
   "cell_type": "code",
   "execution_count": 31,
   "id": "fabc667d-9b81-4caf-af37-7c51e019571e",
   "metadata": {},
   "outputs": [
    {
     "ename": "TypeError",
     "evalue": "LinearModel.predict() takes 2 positional arguments but 8 were given",
     "output_type": "error",
     "traceback": [
      "\u001b[1;31m---------------------------------------------------------------------------\u001b[0m",
      "\u001b[1;31mTypeError\u001b[0m                                 Traceback (most recent call last)",
      "Cell \u001b[1;32mIn[31], line 1\u001b[0m\n\u001b[1;32m----> 1\u001b[0m y_pred \u001b[38;5;241m=\u001b[39m model\u001b[38;5;241m.\u001b[39mpredict(\u001b[38;5;241m2014\u001b[39m, \u001b[38;5;241m5.59\u001b[39m, \u001b[38;5;241m27000\u001b[39m, \u001b[38;5;241m0\u001b[39m, \u001b[38;5;241m0\u001b[39m, \u001b[38;5;241m1\u001b[39m, \u001b[38;5;241m1\u001b[39m)\n",
      "\u001b[1;31mTypeError\u001b[0m: LinearModel.predict() takes 2 positional arguments but 8 were given"
     ]
    }
   ],
   "source": [
    "y_pred = model.predict(2014, 5.59, 27000, 0, 0, 1, 1)"
   ]
  },
  {
   "cell_type": "code",
   "execution_count": 16,
   "id": "60fca510-b55e-46d7-854e-44310952de8b",
   "metadata": {},
   "outputs": [
    {
     "data": {
      "text/plain": [
       "array([ 1.00562562e+01,  2.31891581e+00,  8.07650073e-01,  5.58261412e+00,\n",
       "        3.30133754e+00,  9.01602852e-01,  9.13066787e+00,  2.64733491e+00,\n",
       "        4.61220597e+00,  9.62520786e+00, -5.72279801e-01,  3.24333352e+00,\n",
       "        2.28648032e+00,  7.14259522e+00,  6.39117993e+00,  4.16510217e+00,\n",
       "        4.56205688e+00,  4.76285005e+00,  7.47753386e+00,  2.43495797e+00,\n",
       "        4.43345447e-01,  1.92600221e+01,  4.53395141e+00,  2.01010690e+01,\n",
       "        3.81127977e+00,  4.20135126e+00,  9.09656628e+00,  9.66006972e-01,\n",
       "        2.69383048e+00, -1.29561019e+00,  1.43439054e+01,  2.29727465e+00,\n",
       "        1.78866660e+00,  7.57003282e+00,  3.62257614e+00,  9.59109300e+00,\n",
       "        4.34090873e+00,  7.19295187e+00,  3.31178248e+00,  7.99241530e+00,\n",
       "        3.44556057e+00,  6.27158978e+00, -8.28797691e-01,  6.01852397e+00,\n",
       "        2.05167145e+00,  3.55351677e+00,  6.05479260e+00,  3.05883806e+00,\n",
       "        4.75835464e+00,  2.18173848e+01,  3.72442953e+00,  9.09568358e+00,\n",
       "        7.62297744e+00,  5.73106663e+00,  4.95986085e+00,  3.76759170e+00,\n",
       "       -3.09066010e+00,  1.46820987e+00,  5.54761814e+00,  4.47144591e+00,\n",
       "        6.21530513e+00,  9.77025669e+00,  1.02152208e+01,  5.27336460e+00,\n",
       "        1.80238261e+00,  7.06940161e+00,  2.98431608e+00, -1.40590129e-01,\n",
       "        2.46944246e+00,  6.48956760e+00,  4.27963149e+00,  4.44218080e+00,\n",
       "       -1.93681667e+00, -7.91908490e-01,  7.31424180e+00,  5.10381986e+00,\n",
       "        1.70817185e+00, -8.32203418e+00,  4.82024748e+00, -7.29049715e-02,\n",
       "        3.53876958e+00,  4.40692797e+00,  2.55352849e+00,  2.87625185e+00,\n",
       "        8.40005925e+00,  1.18595220e+00,  3.59665266e+00,  4.32500773e+00,\n",
       "        8.08870846e+00,  1.93423753e+00,  1.50731704e+00,  2.17643705e+01,\n",
       "        2.62202090e+00,  4.26168906e+00,  2.95418536e+00,  3.26339484e+00,\n",
       "        8.63397956e-01,  8.25572485e+00,  3.17485508e+00,  7.79137181e+00,\n",
       "       -2.39596313e+00,  4.25376528e+00,  6.69859530e+00,  8.61314607e+00,\n",
       "        3.04611702e+00,  9.43324361e+00,  1.02257717e+01,  5.90609862e+00,\n",
       "        3.71623125e+00,  6.61647057e+00,  3.11346096e+00,  8.82431517e+00,\n",
       "        1.11893135e+01,  2.40524426e+00,  5.21172188e+00,  5.20817537e+00,\n",
       "        3.40667742e+00,  6.19361107e+00,  9.54500178e-01,  1.54340114e+01,\n",
       "        6.10639368e-01,  5.31362344e-01,  3.75367156e+00,  1.75747461e+00,\n",
       "        1.13558104e+01,  1.96441699e+00,  2.14452923e+00,  1.53331543e+00,\n",
       "        5.57908250e+00,  6.59587359e+00, -1.42556962e-02,  2.77326281e+00,\n",
       "        4.90365654e+00,  1.53829609e+01,  1.96374146e+00,  1.38185467e+00,\n",
       "        9.15698555e-01,  2.44509245e+01,  8.22187155e-01,  2.85306234e+00,\n",
       "        4.32979556e+00,  8.28029307e-01,  7.69882475e+00,  8.62500053e+00,\n",
       "        7.35325287e+00,  2.47569434e+00,  2.09324942e+00,  7.92628206e+00,\n",
       "        6.30170478e+00,  1.07858056e+01,  2.19617994e+00,  2.77365839e+00,\n",
       "        3.04009398e+00,  1.20084265e+00,  1.72750025e+01,  4.81357927e+00,\n",
       "        4.10550180e+00,  7.51719087e+00,  7.32053537e+00,  3.51106438e+00,\n",
       "        1.92600221e+01,  5.45891112e+00,  5.84611636e+00,  1.28205255e+00,\n",
       "        8.32179535e+00,  5.45435588e+00,  5.35485486e+00,  6.20471443e-01,\n",
       "        1.46810372e-01, -2.34990588e+00,  1.25641018e+01,  1.72020367e+00,\n",
       "       -5.20185532e-01,  4.38448061e+00,  3.80490776e+00, -2.16016569e+01,\n",
       "        9.63388005e-01,  8.48024835e+00,  8.31762640e+00,  1.72864556e+00,\n",
       "        4.43234120e+00, -6.05485301e+00,  4.86639740e+01,  3.28086817e+00,\n",
       "       -4.34506759e+00,  2.06696119e+00,  1.51016966e+00,  6.82473891e+00,\n",
       "        2.79271283e+00,  4.00324873e+00, -1.78118090e+00,  1.95303434e+00,\n",
       "        1.36095260e+00,  2.01742976e+00,  8.48923917e+00,  1.66260398e-01,\n",
       "        3.86278338e+00,  4.41647853e+00,  8.39464270e+00,  2.92123542e+00,\n",
       "        1.33116189e+01,  1.80411829e+00,  3.40023655e+00, -4.91933650e-01,\n",
       "        1.95769550e+00,  5.10441349e+00,  6.82511643e+00,  5.31877776e-01,\n",
       "        4.38379652e+00, -1.03928011e+00,  3.59485519e+00,  7.56662157e-01,\n",
       "        5.62888797e+00,  5.27232112e-01,  3.58136896e+00,  3.18052488e+00,\n",
       "        6.18389127e+00,  5.10989377e-01,  5.94163899e+00,  3.40997642e+00,\n",
       "        1.52101132e+01,  1.52762903e+00,  1.15455227e+00,  3.99585672e+00,\n",
       "        6.95756953e+00,  4.19133845e+00,  4.78529981e+00,  6.35923127e-01,\n",
       "        1.10248825e+01,  5.27920863e+00,  3.11043332e+00,  2.27303898e-01,\n",
       "        1.56824662e+00,  3.97611136e+00,  2.85197129e+00,  2.74073482e+00,\n",
       "        3.56507735e-01,  8.90768529e+00,  9.84993338e+00,  8.55550888e+00,\n",
       "        1.00818632e+01])"
      ]
     },
     "execution_count": 16,
     "metadata": {},
     "output_type": "execute_result"
    }
   ],
   "source": [
    "y_pred = model.predict(X_test)\n",
    "y_pred"
   ]
  },
  {
   "cell_type": "code",
   "execution_count": 17,
   "id": "fded8bc0-f4d2-4d04-ad19-8417be24d779",
   "metadata": {},
   "outputs": [
    {
     "data": {
      "text/plain": [
       "0.7873976160428405"
      ]
     },
     "execution_count": 17,
     "metadata": {},
     "output_type": "execute_result"
    }
   ],
   "source": [
    "from sklearn.metrics import r2_score\n",
    "\n",
    "r2 = r2_score(y_test, y_pred)\n",
    "r2"
   ]
  },
  {
   "cell_type": "code",
   "execution_count": 18,
   "id": "3b95abe0-086b-410c-8cb7-496799dd4665",
   "metadata": {},
   "outputs": [],
   "source": [
    "from sklearn.tree import DecisionTreeRegressor"
   ]
  },
  {
   "cell_type": "code",
   "execution_count": 19,
   "id": "ffff2cb8-7dcd-4659-a205-4b340a333a2b",
   "metadata": {},
   "outputs": [],
   "source": [
    "dtmodel = DecisionTreeRegressor()"
   ]
  },
  {
   "cell_type": "code",
   "execution_count": 20,
   "id": "7af04fbc-fa6f-4a1a-93fa-f011f620ea03",
   "metadata": {},
   "outputs": [
    {
     "data": {
      "text/html": [
       "<style>#sk-container-id-2 {color: black;background-color: white;}#sk-container-id-2 pre{padding: 0;}#sk-container-id-2 div.sk-toggleable {background-color: white;}#sk-container-id-2 label.sk-toggleable__label {cursor: pointer;display: block;width: 100%;margin-bottom: 0;padding: 0.3em;box-sizing: border-box;text-align: center;}#sk-container-id-2 label.sk-toggleable__label-arrow:before {content: \"▸\";float: left;margin-right: 0.25em;color: #696969;}#sk-container-id-2 label.sk-toggleable__label-arrow:hover:before {color: black;}#sk-container-id-2 div.sk-estimator:hover label.sk-toggleable__label-arrow:before {color: black;}#sk-container-id-2 div.sk-toggleable__content {max-height: 0;max-width: 0;overflow: hidden;text-align: left;background-color: #f0f8ff;}#sk-container-id-2 div.sk-toggleable__content pre {margin: 0.2em;color: black;border-radius: 0.25em;background-color: #f0f8ff;}#sk-container-id-2 input.sk-toggleable__control:checked~div.sk-toggleable__content {max-height: 200px;max-width: 100%;overflow: auto;}#sk-container-id-2 input.sk-toggleable__control:checked~label.sk-toggleable__label-arrow:before {content: \"▾\";}#sk-container-id-2 div.sk-estimator input.sk-toggleable__control:checked~label.sk-toggleable__label {background-color: #d4ebff;}#sk-container-id-2 div.sk-label input.sk-toggleable__control:checked~label.sk-toggleable__label {background-color: #d4ebff;}#sk-container-id-2 input.sk-hidden--visually {border: 0;clip: rect(1px 1px 1px 1px);clip: rect(1px, 1px, 1px, 1px);height: 1px;margin: -1px;overflow: hidden;padding: 0;position: absolute;width: 1px;}#sk-container-id-2 div.sk-estimator {font-family: monospace;background-color: #f0f8ff;border: 1px dotted black;border-radius: 0.25em;box-sizing: border-box;margin-bottom: 0.5em;}#sk-container-id-2 div.sk-estimator:hover {background-color: #d4ebff;}#sk-container-id-2 div.sk-parallel-item::after {content: \"\";width: 100%;border-bottom: 1px solid gray;flex-grow: 1;}#sk-container-id-2 div.sk-label:hover label.sk-toggleable__label {background-color: #d4ebff;}#sk-container-id-2 div.sk-serial::before {content: \"\";position: absolute;border-left: 1px solid gray;box-sizing: border-box;top: 0;bottom: 0;left: 50%;z-index: 0;}#sk-container-id-2 div.sk-serial {display: flex;flex-direction: column;align-items: center;background-color: white;padding-right: 0.2em;padding-left: 0.2em;position: relative;}#sk-container-id-2 div.sk-item {position: relative;z-index: 1;}#sk-container-id-2 div.sk-parallel {display: flex;align-items: stretch;justify-content: center;background-color: white;position: relative;}#sk-container-id-2 div.sk-item::before, #sk-container-id-2 div.sk-parallel-item::before {content: \"\";position: absolute;border-left: 1px solid gray;box-sizing: border-box;top: 0;bottom: 0;left: 50%;z-index: -1;}#sk-container-id-2 div.sk-parallel-item {display: flex;flex-direction: column;z-index: 1;position: relative;background-color: white;}#sk-container-id-2 div.sk-parallel-item:first-child::after {align-self: flex-end;width: 50%;}#sk-container-id-2 div.sk-parallel-item:last-child::after {align-self: flex-start;width: 50%;}#sk-container-id-2 div.sk-parallel-item:only-child::after {width: 0;}#sk-container-id-2 div.sk-dashed-wrapped {border: 1px dashed gray;margin: 0 0.4em 0.5em 0.4em;box-sizing: border-box;padding-bottom: 0.4em;background-color: white;}#sk-container-id-2 div.sk-label label {font-family: monospace;font-weight: bold;display: inline-block;line-height: 1.2em;}#sk-container-id-2 div.sk-label-container {text-align: center;}#sk-container-id-2 div.sk-container {/* jupyter's `normalize.less` sets `[hidden] { display: none; }` but bootstrap.min.css set `[hidden] { display: none !important; }` so we also need the `!important` here to be able to override the default hidden behavior on the sphinx rendered scikit-learn.org. See: https://github.com/scikit-learn/scikit-learn/issues/21755 */display: inline-block !important;position: relative;}#sk-container-id-2 div.sk-text-repr-fallback {display: none;}</style><div id=\"sk-container-id-2\" class=\"sk-top-container\"><div class=\"sk-text-repr-fallback\"><pre>DecisionTreeRegressor()</pre><b>In a Jupyter environment, please rerun this cell to show the HTML representation or trust the notebook. <br />On GitHub, the HTML representation is unable to render, please try loading this page with nbviewer.org.</b></div><div class=\"sk-container\" hidden><div class=\"sk-item\"><div class=\"sk-estimator sk-toggleable\"><input class=\"sk-toggleable__control sk-hidden--visually\" id=\"sk-estimator-id-2\" type=\"checkbox\" checked><label for=\"sk-estimator-id-2\" class=\"sk-toggleable__label sk-toggleable__label-arrow\">DecisionTreeRegressor</label><div class=\"sk-toggleable__content\"><pre>DecisionTreeRegressor()</pre></div></div></div></div></div>"
      ],
      "text/plain": [
       "DecisionTreeRegressor()"
      ]
     },
     "execution_count": 20,
     "metadata": {},
     "output_type": "execute_result"
    }
   ],
   "source": [
    "dtmodel.fit(X_train, y_train)"
   ]
  },
  {
   "cell_type": "code",
   "execution_count": 21,
   "id": "1fd0512a-6ee9-4485-a7bd-03be98d4f424",
   "metadata": {},
   "outputs": [
    {
     "data": {
      "text/plain": [
       "array([ 8.4 ,  3.  ,  2.85,  5.5 ,  0.6 ,  0.25,  5.  ,  2.95,  5.5 ,\n",
       "        5.  ,  0.2 ,  1.15,  0.2 ,  6.  ,  5.5 ,  4.  ,  5.3 ,  4.4 ,\n",
       "        6.45,  1.15,  0.45, 23.  ,  5.  , 14.5 ,  3.95,  3.9 ,  8.4 ,\n",
       "        0.25,  1.15,  2.85, 14.5 ,  0.2 ,  1.15,  4.5 ,  2.85,  8.4 ,\n",
       "        3.9 ,  5.5 ,  1.15,  7.75,  0.2 ,  6.15,  0.6 ,  3.9 ,  0.6 ,\n",
       "        1.15,  5.5 ,  5.25,  4.4 , 23.  ,  1.15,  7.5 ,  7.75,  8.25,\n",
       "        4.4 ,  4.4 ,  0.2 ,  4.15,  5.5 ,  5.5 ,  6.  ,  8.25,  8.4 ,\n",
       "        5.5 ,  2.85,  6.45,  0.6 ,  5.25,  2.95,  5.5 ,  3.65,  5.5 ,\n",
       "        0.6 ,  5.25,  8.35,  5.15,  0.2 ,  0.6 ,  5.5 ,  3.  ,  3.95,\n",
       "        2.9 ,  0.25,  0.2 ,  8.4 ,  0.45,  4.  ,  4.  ,  5.25,  0.6 ,\n",
       "        1.15, 14.5 ,  1.11,  3.9 ,  1.35,  4.4 ,  0.6 ,  7.75,  0.6 ,\n",
       "        8.4 ,  0.2 ,  4.4 ,  4.4 ,  8.4 ,  1.15,  8.4 ,  7.5 ,  6.  ,\n",
       "        0.25,  6.15,  0.6 ,  5.25,  4.5 ,  0.2 ,  5.5 ,  6.  ,  2.9 ,\n",
       "        4.5 ,  0.2 ,  8.4 ,  0.2 ,  1.35,  1.15,  1.15,  8.4 ,  2.9 ,\n",
       "        3.  ,  0.45,  5.5 ,  6.6 ,  0.6 ,  4.15,  5.15, 14.5 ,  0.2 ,\n",
       "        4.15,  0.45, 23.  ,  0.2 ,  0.6 ,  5.5 ,  2.95,  8.4 ,  8.4 ,\n",
       "        7.75,  0.2 ,  0.45,  7.5 ,  5.  ,  4.5 ,  2.95,  2.85,  1.15,\n",
       "        3.  , 23.  ,  8.25,  4.15,  7.5 ,  8.35,  1.15, 23.  ,  3.9 ,\n",
       "        5.25,  0.45,  6.45,  4.4 ,  5.25,  0.2 ,  0.6 ,  0.2 ,  8.4 ,\n",
       "        0.6 ,  0.25,  5.3 ,  4.4 ,  0.3 ,  1.1 ,  8.4 ,  8.4 ,  0.45,\n",
       "        5.25,  1.35, 14.5 ,  0.6 ,  0.2 ,  0.6 ,  0.2 ,  8.35,  4.  ,\n",
       "        3.  ,  0.6 ,  0.6 ,  0.45,  2.85,  8.4 ,  0.6 ,  1.15,  5.15,\n",
       "        4.5 ,  0.6 ,  8.4 ,  1.1 ,  0.6 ,  1.1 ,  0.25,  6.  ,  7.5 ,\n",
       "        0.25,  3.9 ,  0.2 ,  0.25,  1.95,  5.  ,  0.6 ,  0.25,  2.9 ,\n",
       "        5.5 ,  3.  ,  5.5 ,  4.4 ,  8.4 ,  0.2 ,  0.2 ,  5.  ,  8.75,\n",
       "        2.85,  2.85,  0.3 ,  8.4 ,  5.5 ,  3.25,  0.6 ,  0.45,  3.9 ,\n",
       "        0.2 ,  0.6 ,  1.1 ,  8.4 ,  5.  ,  7.5 ,  8.4 ])"
      ]
     },
     "execution_count": 21,
     "metadata": {},
     "output_type": "execute_result"
    }
   ],
   "source": [
    "y_pred1 = dtmodel.predict(X_test)\n",
    "y_pred1"
   ]
  },
  {
   "cell_type": "code",
   "execution_count": 22,
   "id": "88433b74-f64e-42a2-94a9-c62124ca15c3",
   "metadata": {},
   "outputs": [
    {
     "data": {
      "text/plain": [
       "0.818031861924978"
      ]
     },
     "execution_count": 22,
     "metadata": {},
     "output_type": "execute_result"
    }
   ],
   "source": [
    "r2_1 = r2_score(y_test, y_pred1)\n",
    "r2_1"
   ]
  },
  {
   "cell_type": "code",
   "execution_count": 23,
   "id": "9e3a7904-430e-4383-b590-2ec739076063",
   "metadata": {},
   "outputs": [],
   "source": [
    "from sklearn.ensemble import RandomForestRegressor"
   ]
  },
  {
   "cell_type": "code",
   "execution_count": 24,
   "id": "24fcb229-8d67-4f76-bb4b-1e6b2a819083",
   "metadata": {},
   "outputs": [],
   "source": [
    "rfModel = RandomForestRegressor()"
   ]
  },
  {
   "cell_type": "code",
   "execution_count": 25,
   "id": "e81b964e-b21b-49b5-87a2-8d7aa39d7881",
   "metadata": {},
   "outputs": [
    {
     "data": {
      "text/html": [
       "<style>#sk-container-id-3 {color: black;background-color: white;}#sk-container-id-3 pre{padding: 0;}#sk-container-id-3 div.sk-toggleable {background-color: white;}#sk-container-id-3 label.sk-toggleable__label {cursor: pointer;display: block;width: 100%;margin-bottom: 0;padding: 0.3em;box-sizing: border-box;text-align: center;}#sk-container-id-3 label.sk-toggleable__label-arrow:before {content: \"▸\";float: left;margin-right: 0.25em;color: #696969;}#sk-container-id-3 label.sk-toggleable__label-arrow:hover:before {color: black;}#sk-container-id-3 div.sk-estimator:hover label.sk-toggleable__label-arrow:before {color: black;}#sk-container-id-3 div.sk-toggleable__content {max-height: 0;max-width: 0;overflow: hidden;text-align: left;background-color: #f0f8ff;}#sk-container-id-3 div.sk-toggleable__content pre {margin: 0.2em;color: black;border-radius: 0.25em;background-color: #f0f8ff;}#sk-container-id-3 input.sk-toggleable__control:checked~div.sk-toggleable__content {max-height: 200px;max-width: 100%;overflow: auto;}#sk-container-id-3 input.sk-toggleable__control:checked~label.sk-toggleable__label-arrow:before {content: \"▾\";}#sk-container-id-3 div.sk-estimator input.sk-toggleable__control:checked~label.sk-toggleable__label {background-color: #d4ebff;}#sk-container-id-3 div.sk-label input.sk-toggleable__control:checked~label.sk-toggleable__label {background-color: #d4ebff;}#sk-container-id-3 input.sk-hidden--visually {border: 0;clip: rect(1px 1px 1px 1px);clip: rect(1px, 1px, 1px, 1px);height: 1px;margin: -1px;overflow: hidden;padding: 0;position: absolute;width: 1px;}#sk-container-id-3 div.sk-estimator {font-family: monospace;background-color: #f0f8ff;border: 1px dotted black;border-radius: 0.25em;box-sizing: border-box;margin-bottom: 0.5em;}#sk-container-id-3 div.sk-estimator:hover {background-color: #d4ebff;}#sk-container-id-3 div.sk-parallel-item::after {content: \"\";width: 100%;border-bottom: 1px solid gray;flex-grow: 1;}#sk-container-id-3 div.sk-label:hover label.sk-toggleable__label {background-color: #d4ebff;}#sk-container-id-3 div.sk-serial::before {content: \"\";position: absolute;border-left: 1px solid gray;box-sizing: border-box;top: 0;bottom: 0;left: 50%;z-index: 0;}#sk-container-id-3 div.sk-serial {display: flex;flex-direction: column;align-items: center;background-color: white;padding-right: 0.2em;padding-left: 0.2em;position: relative;}#sk-container-id-3 div.sk-item {position: relative;z-index: 1;}#sk-container-id-3 div.sk-parallel {display: flex;align-items: stretch;justify-content: center;background-color: white;position: relative;}#sk-container-id-3 div.sk-item::before, #sk-container-id-3 div.sk-parallel-item::before {content: \"\";position: absolute;border-left: 1px solid gray;box-sizing: border-box;top: 0;bottom: 0;left: 50%;z-index: -1;}#sk-container-id-3 div.sk-parallel-item {display: flex;flex-direction: column;z-index: 1;position: relative;background-color: white;}#sk-container-id-3 div.sk-parallel-item:first-child::after {align-self: flex-end;width: 50%;}#sk-container-id-3 div.sk-parallel-item:last-child::after {align-self: flex-start;width: 50%;}#sk-container-id-3 div.sk-parallel-item:only-child::after {width: 0;}#sk-container-id-3 div.sk-dashed-wrapped {border: 1px dashed gray;margin: 0 0.4em 0.5em 0.4em;box-sizing: border-box;padding-bottom: 0.4em;background-color: white;}#sk-container-id-3 div.sk-label label {font-family: monospace;font-weight: bold;display: inline-block;line-height: 1.2em;}#sk-container-id-3 div.sk-label-container {text-align: center;}#sk-container-id-3 div.sk-container {/* jupyter's `normalize.less` sets `[hidden] { display: none; }` but bootstrap.min.css set `[hidden] { display: none !important; }` so we also need the `!important` here to be able to override the default hidden behavior on the sphinx rendered scikit-learn.org. See: https://github.com/scikit-learn/scikit-learn/issues/21755 */display: inline-block !important;position: relative;}#sk-container-id-3 div.sk-text-repr-fallback {display: none;}</style><div id=\"sk-container-id-3\" class=\"sk-top-container\"><div class=\"sk-text-repr-fallback\"><pre>RandomForestRegressor()</pre><b>In a Jupyter environment, please rerun this cell to show the HTML representation or trust the notebook. <br />On GitHub, the HTML representation is unable to render, please try loading this page with nbviewer.org.</b></div><div class=\"sk-container\" hidden><div class=\"sk-item\"><div class=\"sk-estimator sk-toggleable\"><input class=\"sk-toggleable__control sk-hidden--visually\" id=\"sk-estimator-id-3\" type=\"checkbox\" checked><label for=\"sk-estimator-id-3\" class=\"sk-toggleable__label sk-toggleable__label-arrow\">RandomForestRegressor</label><div class=\"sk-toggleable__content\"><pre>RandomForestRegressor()</pre></div></div></div></div></div>"
      ],
      "text/plain": [
       "RandomForestRegressor()"
      ]
     },
     "execution_count": 25,
     "metadata": {},
     "output_type": "execute_result"
    }
   ],
   "source": [
    "rfModel.fit(X_train, y_train)"
   ]
  },
  {
   "cell_type": "code",
   "execution_count": 26,
   "id": "a09f9465-7642-41a2-ad8b-4c2d9b92c644",
   "metadata": {},
   "outputs": [
    {
     "data": {
      "text/plain": [
       "array([ 7.961 ,  4.978 ,  2.744 ,  5.7205,  1.0176,  0.3332,  6.514 ,\n",
       "        2.9885,  5.256 ,  6.6955,  0.234 ,  1.3566,  0.3511,  6.5405,\n",
       "        5.8505,  4.134 ,  5.097 ,  4.573 ,  7.213 ,  1.2742,  0.473 ,\n",
       "       16.967 ,  5.4905, 14.174 ,  3.969 ,  3.937 ,  7.7565,  0.2995,\n",
       "        1.1277,  2.494 , 14.683 ,  0.5711,  1.081 ,  4.764 ,  3.6535,\n",
       "        8.0125,  4.902 ,  7.0055,  1.2969,  7.641 ,  0.5801,  6.0205,\n",
       "        0.46  ,  4.6305,  0.6107,  1.4764,  5.7885,  3.8   ,  4.573 ,\n",
       "       16.9365,  1.5154,  7.783 ,  7.609 ,  7.454 ,  4.9915,  4.3545,\n",
       "        0.231 ,  3.782 ,  5.5455,  4.688 ,  5.8085,  7.5175,  7.799 ,\n",
       "        5.41  ,  2.943 ,  6.8515,  0.8101,  5.3165,  3.009 ,  5.6   ,\n",
       "        3.823 ,  4.688 ,  0.414 ,  5.342 ,  7.743 ,  4.4665,  0.3005,\n",
       "        0.7415,  5.3485,  3.325 ,  3.9595,  3.2785,  0.6041,  0.5801,\n",
       "        8.0405,  0.656 ,  4.042 ,  3.8135,  5.7875,  0.5592,  1.2337,\n",
       "       15.507 ,  1.0883,  4.0215,  1.3567,  4.2685,  0.5561,  7.717 ,\n",
       "        1.0131,  7.8055,  0.2705,  4.644 ,  4.692 ,  7.77  ,  1.2579,\n",
       "        7.87  ,  7.8745,  5.916 ,  0.8291,  6.0125,  0.7936, 10.021 ,\n",
       "        9.298 ,  0.3557,  5.608 ,  5.713 ,  3.0635,  4.8825,  0.3577,\n",
       "       12.582 ,  0.264 ,  1.2309,  1.4764,  1.12  ,  8.0995,  3.209 ,\n",
       "        3.341 ,  0.6585,  5.5455,  6.7305,  0.498 ,  4.1515,  4.9075,\n",
       "       14.678 ,  0.3406,  3.7825,  0.462 , 17.0495,  0.4985,  0.7986,\n",
       "        4.7055,  2.9555,  7.7155,  7.889 ,  7.558 ,  0.6106,  0.719 ,\n",
       "        7.548 ,  5.813 ,  8.5555,  2.9875,  3.3256,  1.2579,  2.999 ,\n",
       "       17.477 ,  7.6905,  4.304 ,  7.5105,  7.743 ,  1.2969, 16.967 ,\n",
       "        4.371 ,  4.0525,  0.4605,  7.2255,  4.9905, 10.0045,  0.2565,\n",
       "        0.5627,  0.231 ,  8.633 ,  0.5807,  0.265 ,  5.0385,  4.108 ,\n",
       "        0.5525,  1.0684,  7.79  ,  7.9865,  0.4635,  5.8635,  1.4709,\n",
       "       13.144 ,  1.0146,  0.5545,  0.5866,  0.3125,  7.494 ,  4.123 ,\n",
       "        3.3735,  0.4055,  0.6047,  0.4225,  3.448 ,  7.79  ,  0.4675,\n",
       "        1.5154,  4.2705,  5.3295,  0.8556, 12.2805,  1.0957,  1.0176,\n",
       "        1.0964,  0.3325,  5.745 ,  7.6285,  0.298 ,  4.001 ,  0.317 ,\n",
       "        0.8291,  2.4465,  5.707 ,  0.502 ,  0.8291,  3.144 ,  5.312 ,\n",
       "        4.896 ,  5.729 ,  3.9965, 12.46  ,  0.3112,  0.2745,  5.841 ,\n",
       "        7.595 ,  4.1255,  4.418 ,  0.3437,  8.061 ,  5.41  ,  3.9465,\n",
       "        0.489 ,  0.6111,  4.1015,  0.8081,  0.7786,  1.0659,  7.8915,\n",
       "        6.5755,  7.6405,  8.071 ])"
      ]
     },
     "execution_count": 26,
     "metadata": {},
     "output_type": "execute_result"
    }
   ],
   "source": [
    "y_pred2 = rfModel.predict(X_test)\n",
    "y_pred2"
   ]
  },
  {
   "cell_type": "code",
   "execution_count": 27,
   "id": "3a126d17-d75f-492f-a6d3-047faafd5cf6",
   "metadata": {},
   "outputs": [
    {
     "data": {
      "text/plain": [
       "0.7897496353957202"
      ]
     },
     "execution_count": 27,
     "metadata": {},
     "output_type": "execute_result"
    }
   ],
   "source": [
    "r2_2 = r2_score(y_test, y_pred2)\n",
    "r2_2"
   ]
  },
  {
   "cell_type": "code",
   "execution_count": 28,
   "id": "b8c5831d-b584-4e0e-b28b-402c77bd8362",
   "metadata": {},
   "outputs": [
    {
     "data": {
      "text/plain": [
       "0.7897496353957202"
      ]
     },
     "execution_count": 28,
     "metadata": {},
     "output_type": "execute_result"
    }
   ],
   "source": [
    "rfModel.score(X_test, y_test)"
   ]
  },
  {
   "cell_type": "code",
   "execution_count": 29,
   "id": "e3274979-999c-4f1b-8a25-d0817e4fb0ff",
   "metadata": {},
   "outputs": [
    {
     "data": {
      "text/plain": [
       "0.9336713744421752"
      ]
     },
     "execution_count": 29,
     "metadata": {},
     "output_type": "execute_result"
    }
   ],
   "source": [
    "rfModel.score(X_train, y_train)"
   ]
  },
  {
   "cell_type": "code",
   "execution_count": null,
   "id": "82fbf4fa-d7c8-4827-b288-17136b037f99",
   "metadata": {},
   "outputs": [],
   "source": []
  }
 ],
 "metadata": {
  "kernelspec": {
   "display_name": "Python 3 (ipykernel)",
   "language": "python",
   "name": "python3"
  },
  "language_info": {
   "codemirror_mode": {
    "name": "ipython",
    "version": 3
   },
   "file_extension": ".py",
   "mimetype": "text/x-python",
   "name": "python",
   "nbconvert_exporter": "python",
   "pygments_lexer": "ipython3",
   "version": "3.11.7"
  }
 },
 "nbformat": 4,
 "nbformat_minor": 5
}
